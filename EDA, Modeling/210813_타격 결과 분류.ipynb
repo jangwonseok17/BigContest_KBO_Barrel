{
 "cells": [
  {
   "cell_type": "code",
   "execution_count": 1,
   "id": "6c36d805",
   "metadata": {},
   "outputs": [],
   "source": [
    "import pandas as pd\n",
    "\n",
    "# 한글 폰트 깨짐 방지\n",
    "from matplotlib import font_manager, rc\n",
    "font_path = \"C:/Windows/Fonts/NGULIM.TTF\"\n",
    "font = font_manager.FontProperties(fname=font_path).get_name()\n",
    "rc('font', family=font)\n",
    "\n",
    "#에러 무시\n",
    "import warnings\n",
    "warnings.filterwarnings('ignore')\n",
    "\n",
    "import pandas as pd\n",
    "\n",
    "import matplotlib.pyplot as plt\n",
    "import matplotlib\n",
    "\n",
    "from sklearn.tree import export_graphviz\n",
    "import graphviz\n",
    "\n",
    "from sklearn.model_selection import train_test_split\n",
    "from sklearn.ensemble import GradientBoostingRegressor\n",
    "from sklearn.model_selection import GridSearchCV\n",
    "\n",
    "from sklearn.preprocessing import scale, minmax_scale, robust_scale\n",
    "\n",
    "import xgboost as xgb\n",
    "\n",
    "import seaborn as sns\n",
    "\n",
    "plt.rcParams['font.family'] = 'NanumGothic'\n"
   ]
  },
  {
   "cell_type": "code",
   "execution_count": 56,
   "id": "deed4daa",
   "metadata": {},
   "outputs": [],
   "source": [
    "basic = pd.read_csv('타자 기본.csv', encoding = 'CP949')"
   ]
  },
  {
   "cell_type": "code",
   "execution_count": 57,
   "id": "00342ae0",
   "metadata": {},
   "outputs": [],
   "source": [
    "hts = pd.read_csv('hts.csv', encoding = 'CP949')"
   ]
  },
  {
   "cell_type": "code",
   "execution_count": 58,
   "id": "7e9f5085",
   "metadata": {},
   "outputs": [
    {
     "data": {
      "text/plain": [
       "array(['플라이', '1루타', '번트안타', '땅볼아웃', '홈런', '2루타', '파울플라이', '3루타', '직선타',\n",
       "       '희생번트', '내야안타(1루타)', '희생플라이', '병살타', '인필드플라이', '번트아웃', '야수선택',\n",
       "       '삼중살타'], dtype=object)"
      ]
     },
     "execution_count": 58,
     "metadata": {},
     "output_type": "execute_result"
    }
   ],
   "source": [
    "hts['타격결과'].unique()"
   ]
  },
  {
   "cell_type": "code",
   "execution_count": 59,
   "id": "ebfebdf8",
   "metadata": {},
   "outputs": [],
   "source": [
    "hts['안타여부'] = 0\n",
    "# hts['안타여부'] = hts.loc[(hts['타격결과'] == '1루타') == 1]"
   ]
  },
  {
   "cell_type": "code",
   "execution_count": 60,
   "id": "6b22dc38",
   "metadata": {},
   "outputs": [],
   "source": [
    "# 안타가 된 타구만 1로 \n",
    "hts['안타여부'][(hts['타격결과'] == '1루타')] = 1\n",
    "hts['안타여부'][(hts['타격결과'] == '2루타')] = 1\n",
    "hts['안타여부'][(hts['타격결과'] == '3루타')] = 1\n",
    "hts['안타여부'][(hts['타격결과'] == '홈런')] = 1\n",
    "# hts['안타여부'][(hts['타격결과'] == '직선타')] = 1"
   ]
  },
  {
   "cell_type": "code",
   "execution_count": 62,
   "id": "44419554",
   "metadata": {},
   "outputs": [
    {
     "data": {
      "text/html": [
       "<div>\n",
       "<style scoped>\n",
       "    .dataframe tbody tr th:only-of-type {\n",
       "        vertical-align: middle;\n",
       "    }\n",
       "\n",
       "    .dataframe tbody tr th {\n",
       "        vertical-align: top;\n",
       "    }\n",
       "\n",
       "    .dataframe thead th {\n",
       "        text-align: right;\n",
       "    }\n",
       "</style>\n",
       "<table border=\"1\" class=\"dataframe\">\n",
       "  <thead>\n",
       "    <tr style=\"text-align: right;\">\n",
       "      <th></th>\n",
       "      <th>연도</th>\n",
       "      <th>경기코드</th>\n",
       "      <th>타구코드</th>\n",
       "      <th>선수코드</th>\n",
       "      <th>타자 팀 코드</th>\n",
       "      <th>이닝</th>\n",
       "      <th>타구속도</th>\n",
       "      <th>발사각도</th>\n",
       "      <th>타격결과</th>\n",
       "      <th>투구구속</th>\n",
       "      <th>해당구장</th>\n",
       "      <th>안타여부</th>\n",
       "    </tr>\n",
       "  </thead>\n",
       "  <tbody>\n",
       "    <tr>\n",
       "      <th>0</th>\n",
       "      <td>2018</td>\n",
       "      <td>20180324HHWO0</td>\n",
       "      <td>180324_140436</td>\n",
       "      <td>62797</td>\n",
       "      <td>HH</td>\n",
       "      <td>1</td>\n",
       "      <td>131.50</td>\n",
       "      <td>42.7</td>\n",
       "      <td>플라이</td>\n",
       "      <td>149.59</td>\n",
       "      <td>고척</td>\n",
       "      <td>0</td>\n",
       "    </tr>\n",
       "    <tr>\n",
       "      <th>1</th>\n",
       "      <td>2018</td>\n",
       "      <td>20180324HHWO0</td>\n",
       "      <td>180324_140514</td>\n",
       "      <td>76753</td>\n",
       "      <td>HH</td>\n",
       "      <td>1</td>\n",
       "      <td>135.18</td>\n",
       "      <td>9.9</td>\n",
       "      <td>1루타</td>\n",
       "      <td>148.78</td>\n",
       "      <td>고척</td>\n",
       "      <td>1</td>\n",
       "    </tr>\n",
       "    <tr>\n",
       "      <th>2</th>\n",
       "      <td>2018</td>\n",
       "      <td>20180324HHWO0</td>\n",
       "      <td>180324_140647</td>\n",
       "      <td>71752</td>\n",
       "      <td>HH</td>\n",
       "      <td>1</td>\n",
       "      <td>152.41</td>\n",
       "      <td>2.1</td>\n",
       "      <td>1루타</td>\n",
       "      <td>148.59</td>\n",
       "      <td>고척</td>\n",
       "      <td>1</td>\n",
       "    </tr>\n",
       "    <tr>\n",
       "      <th>3</th>\n",
       "      <td>2018</td>\n",
       "      <td>20180324HHWO0</td>\n",
       "      <td>180324_140911</td>\n",
       "      <td>62700</td>\n",
       "      <td>HH</td>\n",
       "      <td>1</td>\n",
       "      <td>113.72</td>\n",
       "      <td>13.5</td>\n",
       "      <td>1루타</td>\n",
       "      <td>139.13</td>\n",
       "      <td>고척</td>\n",
       "      <td>1</td>\n",
       "    </tr>\n",
       "    <tr>\n",
       "      <th>4</th>\n",
       "      <td>2018</td>\n",
       "      <td>20180324HHWO0</td>\n",
       "      <td>180324_142050</td>\n",
       "      <td>68730</td>\n",
       "      <td>HH</td>\n",
       "      <td>2</td>\n",
       "      <td>54.11</td>\n",
       "      <td>16.4</td>\n",
       "      <td>번트안타</td>\n",
       "      <td>134.07</td>\n",
       "      <td>고척</td>\n",
       "      <td>0</td>\n",
       "    </tr>\n",
       "  </tbody>\n",
       "</table>\n",
       "</div>"
      ],
      "text/plain": [
       "     연도           경기코드           타구코드   선수코드 타자 팀 코드  이닝    타구속도  발사각도  타격결과  \\\n",
       "0  2018  20180324HHWO0  180324_140436  62797      HH   1  131.50  42.7   플라이   \n",
       "1  2018  20180324HHWO0  180324_140514  76753      HH   1  135.18   9.9   1루타   \n",
       "2  2018  20180324HHWO0  180324_140647  71752      HH   1  152.41   2.1   1루타   \n",
       "3  2018  20180324HHWO0  180324_140911  62700      HH   1  113.72  13.5   1루타   \n",
       "4  2018  20180324HHWO0  180324_142050  68730      HH   2   54.11  16.4  번트안타   \n",
       "\n",
       "     투구구속 해당구장  안타여부  \n",
       "0  149.59   고척     0  \n",
       "1  148.78   고척     1  \n",
       "2  148.59   고척     1  \n",
       "3  139.13   고척     1  \n",
       "4  134.07   고척     0  "
      ]
     },
     "execution_count": 62,
     "metadata": {},
     "output_type": "execute_result"
    }
   ],
   "source": [
    "hts.head()"
   ]
  },
  {
   "cell_type": "code",
   "execution_count": 63,
   "id": "0d9a6a71",
   "metadata": {},
   "outputs": [
    {
     "data": {
      "text/plain": [
       "array(['플라이', '1루타', '번트안타', '땅볼아웃', '홈런', '2루타', '파울플라이', '3루타', '직선타',\n",
       "       '희생번트', '내야안타(1루타)', '희생플라이', '병살타', '인필드플라이', '번트아웃', '야수선택',\n",
       "       '삼중살타'], dtype=object)"
      ]
     },
     "execution_count": 63,
     "metadata": {},
     "output_type": "execute_result"
    }
   ],
   "source": [
    "hts['타격결과'].unique()"
   ]
  },
  {
   "cell_type": "markdown",
   "id": "20f16f16",
   "metadata": {},
   "source": [
    "## 분류 기준\n",
    " - 임의로 나누기\n",
    " - 군집분석을 통해 나누기\n",
    "  - 군집분석 방법 별로\n",
    "  \n",
    "  \n",
    "1. 땅볼 : 1루타, 번트안타, 내야안타, 병살타, 땅볼아웃, 야수선택, 희생번트, 등드으드드으응으\n",
    "2. 플라이 : 플라이, 2루타, 3루타, 홈런, "
   ]
  },
  {
   "cell_type": "code",
   "execution_count": null,
   "id": "9b2b95f3",
   "metadata": {},
   "outputs": [],
   "source": []
  }
 ],
 "metadata": {
  "kernelspec": {
   "display_name": "Python 3",
   "language": "python",
   "name": "python3"
  },
  "language_info": {
   "codemirror_mode": {
    "name": "ipython",
    "version": 3
   },
   "file_extension": ".py",
   "mimetype": "text/x-python",
   "name": "python",
   "nbconvert_exporter": "python",
   "pygments_lexer": "ipython3",
   "version": "3.8.8"
  }
 },
 "nbformat": 4,
 "nbformat_minor": 5
}
