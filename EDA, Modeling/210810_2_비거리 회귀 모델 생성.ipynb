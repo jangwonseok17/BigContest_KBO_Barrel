{
 "cells": [
  {
   "cell_type": "code",
   "execution_count": 12,
   "id": "accd9907",
   "metadata": {},
   "outputs": [],
   "source": [
    "import pandas as pd\n",
    "\n",
    "# 한글 폰트 깨짐 방지\n",
    "from matplotlib import font_manager, rc\n",
    "font_path = \"C:/Windows/Fonts/NGULIM.TTF\"\n",
    "font = font_manager.FontProperties(fname=font_path).get_name()\n",
    "rc('font', family=font)\n",
    "\n",
    "#에러 무시\n",
    "import warnings\n",
    "warnings.filterwarnings('ignore')\n",
    "\n",
    "import pandas as pd\n",
    "\n",
    "import matplotlib.pyplot as plt\n",
    "import matplotlib\n",
    "\n",
    "from sklearn.tree import export_graphviz\n",
    "import graphviz\n",
    "\n",
    "from sklearn.model_selection import train_test_split\n",
    "from sklearn.ensemble import GradientBoostingRegressor\n",
    "from sklearn.model_selection import GridSearchCV\n",
    "\n",
    "from sklearn.preprocessing import scale, minmax_scale, robust_scale\n",
    "\n",
    "import xgboost as xgb\n",
    "\n",
    "import seaborn as sns\n",
    "\n",
    "plt.rcParams['font.family'] = 'NanumGothic'\n"
   ]
  },
  {
   "cell_type": "code",
   "execution_count": 2,
   "id": "20223725",
   "metadata": {},
   "outputs": [],
   "source": [
    "hts = pd.read_csv('hts.csv', encoding = 'CP949')\n",
    "hitter = pd.read_csv('타자 기본.csv', encoding = 'CP949')\n",
    "player = pd.read_csv('선수.csv', encoding = 'CP949')"
   ]
  },
  {
   "cell_type": "code",
   "execution_count": 3,
   "id": "60c64c0a",
   "metadata": {},
   "outputs": [],
   "source": [
    "sample = hts.loc[(hts['타격결과'] == '홈런') & (hts['연도'] == 2018) & (hts['타자 팀 코드'] == 'HH')]"
   ]
  },
  {
   "cell_type": "code",
   "execution_count": 4,
   "id": "42e58a96",
   "metadata": {},
   "outputs": [],
   "source": [
    "sample.reset_index(drop = True, inplace = True)"
   ]
  },
  {
   "cell_type": "code",
   "execution_count": 5,
   "id": "4882a9fe",
   "metadata": {},
   "outputs": [
    {
     "data": {
      "text/html": [
       "<div>\n",
       "<style scoped>\n",
       "    .dataframe tbody tr th:only-of-type {\n",
       "        vertical-align: middle;\n",
       "    }\n",
       "\n",
       "    .dataframe tbody tr th {\n",
       "        vertical-align: top;\n",
       "    }\n",
       "\n",
       "    .dataframe thead th {\n",
       "        text-align: right;\n",
       "    }\n",
       "</style>\n",
       "<table border=\"1\" class=\"dataframe\">\n",
       "  <thead>\n",
       "    <tr style=\"text-align: right;\">\n",
       "      <th></th>\n",
       "      <th>연도</th>\n",
       "      <th>경기코드</th>\n",
       "      <th>타구코드</th>\n",
       "      <th>선수코드</th>\n",
       "      <th>타자 팀 코드</th>\n",
       "      <th>이닝</th>\n",
       "      <th>타구속도</th>\n",
       "      <th>발사각도</th>\n",
       "      <th>타격결과</th>\n",
       "      <th>투구구속</th>\n",
       "      <th>해당구장</th>\n",
       "    </tr>\n",
       "  </thead>\n",
       "  <tbody>\n",
       "    <tr>\n",
       "      <th>0</th>\n",
       "      <td>2018</td>\n",
       "      <td>20180325HHWO0</td>\n",
       "      <td>180325_163050</td>\n",
       "      <td>62700</td>\n",
       "      <td>HH</td>\n",
       "      <td>8</td>\n",
       "      <td>153.87</td>\n",
       "      <td>35.1</td>\n",
       "      <td>홈런</td>\n",
       "      <td>143.25</td>\n",
       "      <td>고척</td>\n",
       "    </tr>\n",
       "    <tr>\n",
       "      <th>1</th>\n",
       "      <td>2018</td>\n",
       "      <td>20180327HHNC0</td>\n",
       "      <td>180327_213109</td>\n",
       "      <td>74729</td>\n",
       "      <td>HH</td>\n",
       "      <td>8</td>\n",
       "      <td>157.69</td>\n",
       "      <td>30.0</td>\n",
       "      <td>홈런</td>\n",
       "      <td>135.48</td>\n",
       "      <td>마산</td>\n",
       "    </tr>\n",
       "    <tr>\n",
       "      <th>2</th>\n",
       "      <td>2018</td>\n",
       "      <td>20180327HHNC0</td>\n",
       "      <td>180327_213301</td>\n",
       "      <td>68730</td>\n",
       "      <td>HH</td>\n",
       "      <td>8</td>\n",
       "      <td>153.95</td>\n",
       "      <td>23.6</td>\n",
       "      <td>홈런</td>\n",
       "      <td>143.28</td>\n",
       "      <td>마산</td>\n",
       "    </tr>\n",
       "    <tr>\n",
       "      <th>3</th>\n",
       "      <td>2018</td>\n",
       "      <td>20180328HHNC0</td>\n",
       "      <td>180328_191942</td>\n",
       "      <td>76753</td>\n",
       "      <td>HH</td>\n",
       "      <td>3</td>\n",
       "      <td>148.10</td>\n",
       "      <td>26.8</td>\n",
       "      <td>홈런</td>\n",
       "      <td>140.96</td>\n",
       "      <td>마산</td>\n",
       "    </tr>\n",
       "    <tr>\n",
       "      <th>4</th>\n",
       "      <td>2018</td>\n",
       "      <td>20180330SKHH0</td>\n",
       "      <td>180330_204344</td>\n",
       "      <td>71752</td>\n",
       "      <td>HH</td>\n",
       "      <td>6</td>\n",
       "      <td>152.82</td>\n",
       "      <td>34.5</td>\n",
       "      <td>홈런</td>\n",
       "      <td>119.11</td>\n",
       "      <td>대전</td>\n",
       "    </tr>\n",
       "    <tr>\n",
       "      <th>...</th>\n",
       "      <td>...</td>\n",
       "      <td>...</td>\n",
       "      <td>...</td>\n",
       "      <td>...</td>\n",
       "      <td>...</td>\n",
       "      <td>...</td>\n",
       "      <td>...</td>\n",
       "      <td>...</td>\n",
       "      <td>...</td>\n",
       "      <td>...</td>\n",
       "      <td>...</td>\n",
       "    </tr>\n",
       "    <tr>\n",
       "      <th>133</th>\n",
       "      <td>2018</td>\n",
       "      <td>20181009HHKT0</td>\n",
       "      <td>181009_142927</td>\n",
       "      <td>79705</td>\n",
       "      <td>HH</td>\n",
       "      <td>2</td>\n",
       "      <td>140.41</td>\n",
       "      <td>36.7</td>\n",
       "      <td>홈런</td>\n",
       "      <td>123.25</td>\n",
       "      <td>수원</td>\n",
       "    </tr>\n",
       "    <tr>\n",
       "      <th>134</th>\n",
       "      <td>2018</td>\n",
       "      <td>20181009HHKT0</td>\n",
       "      <td>181009_151103</td>\n",
       "      <td>74729</td>\n",
       "      <td>HH</td>\n",
       "      <td>3</td>\n",
       "      <td>158.80</td>\n",
       "      <td>27.6</td>\n",
       "      <td>홈런</td>\n",
       "      <td>136.50</td>\n",
       "      <td>수원</td>\n",
       "    </tr>\n",
       "    <tr>\n",
       "      <th>135</th>\n",
       "      <td>2018</td>\n",
       "      <td>20181009HHKT0</td>\n",
       "      <td>181009_164055</td>\n",
       "      <td>73136</td>\n",
       "      <td>HH</td>\n",
       "      <td>7</td>\n",
       "      <td>154.37</td>\n",
       "      <td>28.4</td>\n",
       "      <td>홈런</td>\n",
       "      <td>120.83</td>\n",
       "      <td>수원</td>\n",
       "    </tr>\n",
       "    <tr>\n",
       "      <th>136</th>\n",
       "      <td>2018</td>\n",
       "      <td>20181010HHHT0</td>\n",
       "      <td>181010_212916</td>\n",
       "      <td>73136</td>\n",
       "      <td>HH</td>\n",
       "      <td>9</td>\n",
       "      <td>156.31</td>\n",
       "      <td>29.2</td>\n",
       "      <td>홈런</td>\n",
       "      <td>145.97</td>\n",
       "      <td>광주</td>\n",
       "    </tr>\n",
       "    <tr>\n",
       "      <th>137</th>\n",
       "      <td>2018</td>\n",
       "      <td>20181013NCHH0</td>\n",
       "      <td>181013_183748</td>\n",
       "      <td>79705</td>\n",
       "      <td>HH</td>\n",
       "      <td>4</td>\n",
       "      <td>151.89</td>\n",
       "      <td>29.9</td>\n",
       "      <td>홈런</td>\n",
       "      <td>142.18</td>\n",
       "      <td>대전</td>\n",
       "    </tr>\n",
       "  </tbody>\n",
       "</table>\n",
       "<p>138 rows × 11 columns</p>\n",
       "</div>"
      ],
      "text/plain": [
       "       연도           경기코드           타구코드   선수코드 타자 팀 코드  이닝    타구속도  발사각도 타격결과  \\\n",
       "0    2018  20180325HHWO0  180325_163050  62700      HH   8  153.87  35.1   홈런   \n",
       "1    2018  20180327HHNC0  180327_213109  74729      HH   8  157.69  30.0   홈런   \n",
       "2    2018  20180327HHNC0  180327_213301  68730      HH   8  153.95  23.6   홈런   \n",
       "3    2018  20180328HHNC0  180328_191942  76753      HH   3  148.10  26.8   홈런   \n",
       "4    2018  20180330SKHH0  180330_204344  71752      HH   6  152.82  34.5   홈런   \n",
       "..    ...            ...            ...    ...     ...  ..     ...   ...  ...   \n",
       "133  2018  20181009HHKT0  181009_142927  79705      HH   2  140.41  36.7   홈런   \n",
       "134  2018  20181009HHKT0  181009_151103  74729      HH   3  158.80  27.6   홈런   \n",
       "135  2018  20181009HHKT0  181009_164055  73136      HH   7  154.37  28.4   홈런   \n",
       "136  2018  20181010HHHT0  181010_212916  73136      HH   9  156.31  29.2   홈런   \n",
       "137  2018  20181013NCHH0  181013_183748  79705      HH   4  151.89  29.9   홈런   \n",
       "\n",
       "       투구구속 해당구장  \n",
       "0    143.25   고척  \n",
       "1    135.48   마산  \n",
       "2    143.28   마산  \n",
       "3    140.96   마산  \n",
       "4    119.11   대전  \n",
       "..      ...  ...  \n",
       "133  123.25   수원  \n",
       "134  136.50   수원  \n",
       "135  120.83   수원  \n",
       "136  145.97   광주  \n",
       "137  142.18   대전  \n",
       "\n",
       "[138 rows x 11 columns]"
      ]
     },
     "execution_count": 5,
     "metadata": {},
     "output_type": "execute_result"
    }
   ],
   "source": [
    "sample"
   ]
  },
  {
   "cell_type": "code",
   "execution_count": 6,
   "id": "6027c0ba",
   "metadata": {},
   "outputs": [],
   "source": [
    "sample['비거리'] = 0"
   ]
  },
  {
   "cell_type": "code",
   "execution_count": 7,
   "id": "238a7ee7",
   "metadata": {},
   "outputs": [],
   "source": [
    "sample.to_csv('홈런 비거리 샘플.csv', encoding = 'CP949')"
   ]
  },
  {
   "cell_type": "code",
   "execution_count": 8,
   "id": "68f96217",
   "metadata": {},
   "outputs": [],
   "source": [
    "hr = pd.read_csv('홈런 비거리 샘플.csv', encoding = 'CP949')"
   ]
  },
  {
   "cell_type": "code",
   "execution_count": 9,
   "id": "10b06b30",
   "metadata": {},
   "outputs": [],
   "source": [
    "hr.drop('Unnamed: 0', axis = 1, inplace = True)"
   ]
  },
  {
   "cell_type": "code",
   "execution_count": 10,
   "id": "2096437a",
   "metadata": {},
   "outputs": [],
   "source": [
    "hr_sample = hr[['타구속도', '발사각도', '비거리']]"
   ]
  },
  {
   "cell_type": "markdown",
   "id": "5f36835d",
   "metadata": {},
   "source": [
    "## 비거리 회귀 모델"
   ]
  },
  {
   "cell_type": "code",
   "execution_count": 28,
   "id": "cc6574b6",
   "metadata": {},
   "outputs": [],
   "source": [
    "df = pd.read_csv('홈런 비거리 샘플 train.csv', encoding = 'CP949')"
   ]
  },
  {
   "cell_type": "code",
   "execution_count": 29,
   "id": "303acc02",
   "metadata": {},
   "outputs": [],
   "source": [
    "df_raw_y = df[['비거리']]# 목표변수\n",
    "df_raw_x = df[['타구속도','발사각도']] # 독립변수"
   ]
  },
  {
   "cell_type": "code",
   "execution_count": 30,
   "id": "12da55a3",
   "metadata": {},
   "outputs": [
    {
     "name": "stdout",
     "output_type": "stream",
     "text": [
      "train data x size : (42, 2)\n",
      "train data y size : (42, 1)\n",
      "test data x size : (29, 2)\n",
      "test data y size : (29, 1)\n"
     ]
    }
   ],
   "source": [
    "# train, test set 나누기\n",
    "df_train_x, df_test_x, df_train_y, df_test_y = train_test_split(df_raw_x, df_raw_y, test_size = 0.4, random_state = 1234)\n",
    "\n",
    "print('train data x size : {}'.format(df_train_x.shape))\n",
    "print('train data y size : {}'.format(df_train_y.shape))\n",
    "print('test data x size : {}'.format(df_test_x.shape))\n",
    "print('test data y size : {}'.format(df_test_y.shape))"
   ]
  },
  {
   "cell_type": "code",
   "execution_count": 31,
   "id": "432f3d7c",
   "metadata": {},
   "outputs": [
    {
     "name": "stdout",
     "output_type": "stream",
     "text": [
      "Score on trainning set : 1.000000\n",
      "Score on test set : 0.052176\n"
     ]
    }
   ],
   "source": [
    "# 기본 성능 모델\n",
    "gb_uncustomized = xgboost.XGBRegressor(random_state = 1234)\n",
    "gb_uncustomized.fit(df_train_x, df_train_y)\n",
    "\n",
    "print('Score on trainning set : {:3f}'.format(gb_uncustomized.score(df_train_x, df_train_y)))\n",
    "print('Score on test set : {:3f}'.format(gb_uncustomized.score(df_test_x, df_test_y)))"
   ]
  },
  {
   "cell_type": "code",
   "execution_count": 32,
   "id": "ad6be2fb",
   "metadata": {},
   "outputs": [
    {
     "name": "stdout",
     "output_type": "stream",
     "text": [
      "Score on training set: 1.000\n",
      "Score on test set: 0.014\n"
     ]
    }
   ],
   "source": [
    "# 최종 모델\n",
    "# gblinear : 선형모형\n",
    "# gbtree : 의사결정기반모형\n",
    "# dart : 드롭아웃 regression trees\n",
    "\n",
    "xgb_final = xgboost.XGBRegressor(random_state = 1234, n_estimators = 300,\n",
    "                                  colsample_bylevel = 0.5, colsample_bytree = 1, max_depth = 4)\n",
    "\n",
    "xgb_final.fit(df_train_x, df_train_y)\n",
    "\n",
    "print('Score on training set: {:.3f}'.format(xgb_final.score(df_train_x, df_train_y)))\n",
    "print('Score on test set: {:.3f}'.format(xgb_final.score(df_test_x, df_test_y)))"
   ]
  },
  {
   "cell_type": "code",
   "execution_count": 33,
   "id": "2176b708",
   "metadata": {},
   "outputs": [],
   "source": [
    "df_t = pd.read_csv('홈런 비거리 샘플 test.csv', encoding = 'CP949')"
   ]
  },
  {
   "cell_type": "code",
   "execution_count": 36,
   "id": "d050cdb9",
   "metadata": {},
   "outputs": [],
   "source": [
    "df_t = df_t[['타구속도','발사각도']]"
   ]
  },
  {
   "cell_type": "code",
   "execution_count": 37,
   "id": "2ec1cea7",
   "metadata": {},
   "outputs": [],
   "source": [
    "pred = xgb_final.predict(df_t)"
   ]
  },
  {
   "cell_type": "code",
   "execution_count": 38,
   "id": "4579fae9",
   "metadata": {},
   "outputs": [
    {
     "data": {
      "text/plain": [
       "array([126.525986, 125.598305, 112.32326 , 110.252365, 121.88171 ,\n",
       "       120.49664 , 119.18214 , 119.81369 , 121.2615  , 119.00562 ,\n",
       "       125.8964  , 110.0162  , 111.948616, 116.7032  , 118.78052 ,\n",
       "       121.99985 , 118.50397 , 111.66295 , 106.86294 , 115.05141 ,\n",
       "       123.91109 , 128.30568 , 111.06512 , 111.66898 , 112.14194 ,\n",
       "       126.22058 , 119.99824 , 114.52554 , 122.1182  , 112.08409 ,\n",
       "       120.10959 , 110.14281 , 106.598915, 112.24448 , 103.784004,\n",
       "       114.50962 , 112.13931 , 114.71588 , 112.19064 , 107.668365,\n",
       "       114.42525 , 117.47941 , 118.83701 , 122.954384, 121.676674,\n",
       "       108.50402 , 110.18146 , 123.273575, 113.66659 , 117.3479  ,\n",
       "       123.265236, 108.53453 , 110.69067 , 110.43922 , 113.919815,\n",
       "       110.04109 , 120.00171 , 106.29647 , 110.05819 , 125.77205 ,\n",
       "       125.00262 , 111.56815 , 111.99724 , 123.356064, 125.65861 ,\n",
       "       121.77374 , 111.7334  , 112.15952 , 120.00261 , 124.99943 ],\n",
       "      dtype=float32)"
      ]
     },
     "execution_count": 38,
     "metadata": {},
     "output_type": "execute_result"
    }
   ],
   "source": [
    "pred"
   ]
  },
  {
   "cell_type": "code",
   "execution_count": 39,
   "id": "4882936e",
   "metadata": {},
   "outputs": [],
   "source": [
    "df_t['비거리'] = pred"
   ]
  },
  {
   "cell_type": "code",
   "execution_count": 40,
   "id": "6d34e5d0",
   "metadata": {},
   "outputs": [
    {
     "data": {
      "text/html": [
       "<div>\n",
       "<style scoped>\n",
       "    .dataframe tbody tr th:only-of-type {\n",
       "        vertical-align: middle;\n",
       "    }\n",
       "\n",
       "    .dataframe tbody tr th {\n",
       "        vertical-align: top;\n",
       "    }\n",
       "\n",
       "    .dataframe thead th {\n",
       "        text-align: right;\n",
       "    }\n",
       "</style>\n",
       "<table border=\"1\" class=\"dataframe\">\n",
       "  <thead>\n",
       "    <tr style=\"text-align: right;\">\n",
       "      <th></th>\n",
       "      <th>타구속도</th>\n",
       "      <th>발사각도</th>\n",
       "      <th>비거리</th>\n",
       "    </tr>\n",
       "  </thead>\n",
       "  <tbody>\n",
       "    <tr>\n",
       "      <th>0</th>\n",
       "      <td>155.08</td>\n",
       "      <td>31.1</td>\n",
       "      <td>126.525986</td>\n",
       "    </tr>\n",
       "    <tr>\n",
       "      <th>1</th>\n",
       "      <td>159.14</td>\n",
       "      <td>25.4</td>\n",
       "      <td>125.598305</td>\n",
       "    </tr>\n",
       "    <tr>\n",
       "      <th>2</th>\n",
       "      <td>153.59</td>\n",
       "      <td>39.8</td>\n",
       "      <td>112.323257</td>\n",
       "    </tr>\n",
       "    <tr>\n",
       "      <th>3</th>\n",
       "      <td>140.16</td>\n",
       "      <td>35.6</td>\n",
       "      <td>110.252365</td>\n",
       "    </tr>\n",
       "    <tr>\n",
       "      <th>4</th>\n",
       "      <td>154.99</td>\n",
       "      <td>27.5</td>\n",
       "      <td>121.881706</td>\n",
       "    </tr>\n",
       "    <tr>\n",
       "      <th>...</th>\n",
       "      <td>...</td>\n",
       "      <td>...</td>\n",
       "      <td>...</td>\n",
       "    </tr>\n",
       "    <tr>\n",
       "      <th>65</th>\n",
       "      <td>156.31</td>\n",
       "      <td>29.2</td>\n",
       "      <td>121.773743</td>\n",
       "    </tr>\n",
       "    <tr>\n",
       "      <th>66</th>\n",
       "      <td>151.89</td>\n",
       "      <td>29.9</td>\n",
       "      <td>111.733398</td>\n",
       "    </tr>\n",
       "    <tr>\n",
       "      <th>67</th>\n",
       "      <td>148.63</td>\n",
       "      <td>29.8</td>\n",
       "      <td>112.159523</td>\n",
       "    </tr>\n",
       "    <tr>\n",
       "      <th>68</th>\n",
       "      <td>158.22</td>\n",
       "      <td>30.2</td>\n",
       "      <td>120.002609</td>\n",
       "    </tr>\n",
       "    <tr>\n",
       "      <th>69</th>\n",
       "      <td>158.76</td>\n",
       "      <td>24.3</td>\n",
       "      <td>124.999428</td>\n",
       "    </tr>\n",
       "  </tbody>\n",
       "</table>\n",
       "<p>70 rows × 3 columns</p>\n",
       "</div>"
      ],
      "text/plain": [
       "      타구속도  발사각도         비거리\n",
       "0   155.08  31.1  126.525986\n",
       "1   159.14  25.4  125.598305\n",
       "2   153.59  39.8  112.323257\n",
       "3   140.16  35.6  110.252365\n",
       "4   154.99  27.5  121.881706\n",
       "..     ...   ...         ...\n",
       "65  156.31  29.2  121.773743\n",
       "66  151.89  29.9  111.733398\n",
       "67  148.63  29.8  112.159523\n",
       "68  158.22  30.2  120.002609\n",
       "69  158.76  24.3  124.999428\n",
       "\n",
       "[70 rows x 3 columns]"
      ]
     },
     "execution_count": 40,
     "metadata": {},
     "output_type": "execute_result"
    }
   ],
   "source": [
    "df_t"
   ]
  },
  {
   "cell_type": "code",
   "execution_count": 43,
   "id": "382ae9d2",
   "metadata": {},
   "outputs": [],
   "source": [
    "df_t.to_csv('홈런 비거리 샘플 pred.csv', encoding = 'CP949')"
   ]
  },
  {
   "cell_type": "markdown",
   "id": "745b717f",
   "metadata": {},
   "source": [
    "- 샘플이 적음"
   ]
  }
 ],
 "metadata": {
  "kernelspec": {
   "display_name": "Python 3",
   "language": "python",
   "name": "python3"
  },
  "language_info": {
   "codemirror_mode": {
    "name": "ipython",
    "version": 3
   },
   "file_extension": ".py",
   "mimetype": "text/x-python",
   "name": "python",
   "nbconvert_exporter": "python",
   "pygments_lexer": "ipython3",
   "version": "3.8.8"
  }
 },
 "nbformat": 4,
 "nbformat_minor": 5
}
