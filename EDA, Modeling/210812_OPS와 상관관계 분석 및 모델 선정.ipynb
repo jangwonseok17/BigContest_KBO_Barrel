{
 "cells": [
  {
   "cell_type": "code",
   "execution_count": 1,
   "id": "42be6543",
   "metadata": {},
   "outputs": [],
   "source": [
    "import pandas as pd\n",
    "\n",
    "# 한글 폰트 깨짐 방지\n",
    "from matplotlib import font_manager, rc\n",
    "font_path = \"C:/Windows/Fonts/NGULIM.TTF\"\n",
    "font = font_manager.FontProperties(fname=font_path).get_name()\n",
    "rc('font', family=font)\n",
    "\n",
    "#에러 무시\n",
    "import warnings\n",
    "warnings.filterwarnings('ignore')\n",
    "\n",
    "import pandas as pd\n",
    "\n",
    "import matplotlib.pyplot as plt\n",
    "import matplotlib\n",
    "\n",
    "from sklearn.tree import export_graphviz\n",
    "import graphviz\n",
    "\n",
    "from sklearn.model_selection import train_test_split\n",
    "from sklearn.ensemble import GradientBoostingRegressor\n",
    "from sklearn.model_selection import GridSearchCV\n",
    "\n",
    "from sklearn.preprocessing import scale, minmax_scale, robust_scale\n",
    "\n",
    "import xgboost as xgb\n",
    "\n",
    "import seaborn as sns\n",
    "\n",
    "plt.rcParams['font.family'] = 'NanumGothic'\n"
   ]
  },
  {
   "cell_type": "code",
   "execution_count": 2,
   "id": "469f8be2",
   "metadata": {},
   "outputs": [],
   "source": [
    "df = pd.read_csv('82년 ~ 18년 타자 성적.csv', encoding = 'CP949')"
   ]
  },
  {
   "cell_type": "code",
   "execution_count": 3,
   "id": "9cfae623",
   "metadata": {},
   "outputs": [],
   "source": [
    "df.drop('Unnamed: 0', axis = 1, inplace = True)"
   ]
  },
  {
   "cell_type": "code",
   "execution_count": 4,
   "id": "f25e5ca8",
   "metadata": {},
   "outputs": [
    {
     "data": {
      "text/plain": [
       "시즌     -0.089117\n",
       "나이      0.178995\n",
       "희타      0.283392\n",
       "도루      0.318953\n",
       "고4      0.343591\n",
       "3타      0.353408\n",
       "도실      0.380572\n",
       "사구      0.452578\n",
       "희비      0.466994\n",
       "홈런      0.503492\n",
       "병살      0.515106\n",
       "WAR+    0.530023\n",
       "삼진      0.568542\n",
       "볼넷      0.575207\n",
       "2타      0.584528\n",
       "타점      0.587256\n",
       "득점      0.587326\n",
       "타수      0.605591\n",
       "안타      0.607215\n",
       "타석      0.607968\n",
       "루타      0.609306\n",
       "G       0.629175\n",
       "wRC+    0.840125\n",
       "출루      0.901480\n",
       "wOBA    0.944047\n",
       "타율      0.967631\n",
       "장타      0.982626\n",
       "OPS     1.000000\n",
       "Name: OPS, dtype: float64"
      ]
     },
     "execution_count": 4,
     "metadata": {},
     "output_type": "execute_result"
    }
   ],
   "source": [
    "df.corr()['OPS'].sort_values()"
   ]
  },
  {
   "cell_type": "code",
   "execution_count": 5,
   "id": "758b47bd",
   "metadata": {},
   "outputs": [
    {
     "data": {
      "text/html": [
       "<div>\n",
       "<style scoped>\n",
       "    .dataframe tbody tr th:only-of-type {\n",
       "        vertical-align: middle;\n",
       "    }\n",
       "\n",
       "    .dataframe tbody tr th {\n",
       "        vertical-align: top;\n",
       "    }\n",
       "\n",
       "    .dataframe thead th {\n",
       "        text-align: right;\n",
       "    }\n",
       "</style>\n",
       "<table border=\"1\" class=\"dataframe\">\n",
       "  <thead>\n",
       "    <tr style=\"text-align: right;\">\n",
       "      <th></th>\n",
       "      <th>연도</th>\n",
       "      <th>선수코드</th>\n",
       "      <th>경기</th>\n",
       "      <th>타석</th>\n",
       "      <th>타수</th>\n",
       "      <th>타율</th>\n",
       "      <th>안타</th>\n",
       "      <th>홈런</th>\n",
       "      <th>루타</th>\n",
       "      <th>장타율</th>\n",
       "      <th>희생플라이</th>\n",
       "      <th>볼넷</th>\n",
       "      <th>삼진</th>\n",
       "      <th>고의사구</th>\n",
       "      <th>사구</th>\n",
       "      <th>병살타</th>\n",
       "      <th>출루율</th>\n",
       "      <th>OPS</th>\n",
       "    </tr>\n",
       "  </thead>\n",
       "  <tbody>\n",
       "    <tr>\n",
       "      <th>0</th>\n",
       "      <td>2018</td>\n",
       "      <td>60100</td>\n",
       "      <td>70</td>\n",
       "      <td>169</td>\n",
       "      <td>152</td>\n",
       "      <td>0.243</td>\n",
       "      <td>37</td>\n",
       "      <td>3</td>\n",
       "      <td>63</td>\n",
       "      <td>0.414</td>\n",
       "      <td>1</td>\n",
       "      <td>12</td>\n",
       "      <td>36</td>\n",
       "      <td>0</td>\n",
       "      <td>4</td>\n",
       "      <td>5</td>\n",
       "      <td>0.314</td>\n",
       "      <td>NaN</td>\n",
       "    </tr>\n",
       "    <tr>\n",
       "      <th>1</th>\n",
       "      <td>2018</td>\n",
       "      <td>60184</td>\n",
       "      <td>6</td>\n",
       "      <td>10</td>\n",
       "      <td>10</td>\n",
       "      <td>0.200</td>\n",
       "      <td>2</td>\n",
       "      <td>0</td>\n",
       "      <td>3</td>\n",
       "      <td>0.300</td>\n",
       "      <td>0</td>\n",
       "      <td>0</td>\n",
       "      <td>3</td>\n",
       "      <td>0</td>\n",
       "      <td>0</td>\n",
       "      <td>0</td>\n",
       "      <td>0.200</td>\n",
       "      <td>NaN</td>\n",
       "    </tr>\n",
       "    <tr>\n",
       "      <th>2</th>\n",
       "      <td>2018</td>\n",
       "      <td>60288</td>\n",
       "      <td>1</td>\n",
       "      <td>1</td>\n",
       "      <td>1</td>\n",
       "      <td>0.000</td>\n",
       "      <td>0</td>\n",
       "      <td>0</td>\n",
       "      <td>0</td>\n",
       "      <td>0.000</td>\n",
       "      <td>0</td>\n",
       "      <td>0</td>\n",
       "      <td>0</td>\n",
       "      <td>0</td>\n",
       "      <td>0</td>\n",
       "      <td>0</td>\n",
       "      <td>0.000</td>\n",
       "      <td>NaN</td>\n",
       "    </tr>\n",
       "    <tr>\n",
       "      <th>3</th>\n",
       "      <td>2018</td>\n",
       "      <td>60343</td>\n",
       "      <td>83</td>\n",
       "      <td>174</td>\n",
       "      <td>162</td>\n",
       "      <td>0.216</td>\n",
       "      <td>35</td>\n",
       "      <td>8</td>\n",
       "      <td>63</td>\n",
       "      <td>0.389</td>\n",
       "      <td>0</td>\n",
       "      <td>8</td>\n",
       "      <td>49</td>\n",
       "      <td>0</td>\n",
       "      <td>3</td>\n",
       "      <td>3</td>\n",
       "      <td>0.266</td>\n",
       "      <td>NaN</td>\n",
       "    </tr>\n",
       "    <tr>\n",
       "      <th>4</th>\n",
       "      <td>2018</td>\n",
       "      <td>60456</td>\n",
       "      <td>4</td>\n",
       "      <td>8</td>\n",
       "      <td>6</td>\n",
       "      <td>0.500</td>\n",
       "      <td>3</td>\n",
       "      <td>0</td>\n",
       "      <td>3</td>\n",
       "      <td>0.500</td>\n",
       "      <td>0</td>\n",
       "      <td>2</td>\n",
       "      <td>0</td>\n",
       "      <td>0</td>\n",
       "      <td>0</td>\n",
       "      <td>0</td>\n",
       "      <td>0.625</td>\n",
       "      <td>NaN</td>\n",
       "    </tr>\n",
       "    <tr>\n",
       "      <th>...</th>\n",
       "      <td>...</td>\n",
       "      <td>...</td>\n",
       "      <td>...</td>\n",
       "      <td>...</td>\n",
       "      <td>...</td>\n",
       "      <td>...</td>\n",
       "      <td>...</td>\n",
       "      <td>...</td>\n",
       "      <td>...</td>\n",
       "      <td>...</td>\n",
       "      <td>...</td>\n",
       "      <td>...</td>\n",
       "      <td>...</td>\n",
       "      <td>...</td>\n",
       "      <td>...</td>\n",
       "      <td>...</td>\n",
       "      <td>...</td>\n",
       "      <td>...</td>\n",
       "    </tr>\n",
       "    <tr>\n",
       "      <th>1093</th>\n",
       "      <td>2021</td>\n",
       "      <td>79290</td>\n",
       "      <td>4</td>\n",
       "      <td>8</td>\n",
       "      <td>8</td>\n",
       "      <td>0.125</td>\n",
       "      <td>1</td>\n",
       "      <td>0</td>\n",
       "      <td>1</td>\n",
       "      <td>0.125</td>\n",
       "      <td>0</td>\n",
       "      <td>0</td>\n",
       "      <td>2</td>\n",
       "      <td>0</td>\n",
       "      <td>0</td>\n",
       "      <td>0</td>\n",
       "      <td>0.125</td>\n",
       "      <td>NaN</td>\n",
       "    </tr>\n",
       "    <tr>\n",
       "      <th>1094</th>\n",
       "      <td>2021</td>\n",
       "      <td>79365</td>\n",
       "      <td>73</td>\n",
       "      <td>261</td>\n",
       "      <td>219</td>\n",
       "      <td>0.265</td>\n",
       "      <td>58</td>\n",
       "      <td>16</td>\n",
       "      <td>117</td>\n",
       "      <td>0.534</td>\n",
       "      <td>1</td>\n",
       "      <td>32</td>\n",
       "      <td>69</td>\n",
       "      <td>0</td>\n",
       "      <td>6</td>\n",
       "      <td>5</td>\n",
       "      <td>0.372</td>\n",
       "      <td>NaN</td>\n",
       "    </tr>\n",
       "    <tr>\n",
       "      <th>1095</th>\n",
       "      <td>2021</td>\n",
       "      <td>79402</td>\n",
       "      <td>70</td>\n",
       "      <td>278</td>\n",
       "      <td>237</td>\n",
       "      <td>0.211</td>\n",
       "      <td>50</td>\n",
       "      <td>1</td>\n",
       "      <td>61</td>\n",
       "      <td>0.257</td>\n",
       "      <td>0</td>\n",
       "      <td>30</td>\n",
       "      <td>26</td>\n",
       "      <td>0</td>\n",
       "      <td>3</td>\n",
       "      <td>7</td>\n",
       "      <td>0.307</td>\n",
       "      <td>NaN</td>\n",
       "    </tr>\n",
       "    <tr>\n",
       "      <th>1096</th>\n",
       "      <td>2021</td>\n",
       "      <td>79456</td>\n",
       "      <td>62</td>\n",
       "      <td>135</td>\n",
       "      <td>124</td>\n",
       "      <td>0.274</td>\n",
       "      <td>34</td>\n",
       "      <td>0</td>\n",
       "      <td>38</td>\n",
       "      <td>0.306</td>\n",
       "      <td>2</td>\n",
       "      <td>7</td>\n",
       "      <td>11</td>\n",
       "      <td>1</td>\n",
       "      <td>1</td>\n",
       "      <td>5</td>\n",
       "      <td>0.313</td>\n",
       "      <td>NaN</td>\n",
       "    </tr>\n",
       "    <tr>\n",
       "      <th>1097</th>\n",
       "      <td>2021</td>\n",
       "      <td>79608</td>\n",
       "      <td>55</td>\n",
       "      <td>246</td>\n",
       "      <td>212</td>\n",
       "      <td>0.325</td>\n",
       "      <td>69</td>\n",
       "      <td>5</td>\n",
       "      <td>102</td>\n",
       "      <td>0.481</td>\n",
       "      <td>5</td>\n",
       "      <td>26</td>\n",
       "      <td>32</td>\n",
       "      <td>1</td>\n",
       "      <td>0</td>\n",
       "      <td>5</td>\n",
       "      <td>0.391</td>\n",
       "      <td>NaN</td>\n",
       "    </tr>\n",
       "  </tbody>\n",
       "</table>\n",
       "<p>1098 rows × 18 columns</p>\n",
       "</div>"
      ],
      "text/plain": [
       "        연도   선수코드  경기   타석   타수     타율  안타  홈런   루타    장타율  희생플라이  볼넷  삼진  \\\n",
       "0     2018  60100  70  169  152  0.243  37   3   63  0.414      1  12  36   \n",
       "1     2018  60184   6   10   10  0.200   2   0    3  0.300      0   0   3   \n",
       "2     2018  60288   1    1    1  0.000   0   0    0  0.000      0   0   0   \n",
       "3     2018  60343  83  174  162  0.216  35   8   63  0.389      0   8  49   \n",
       "4     2018  60456   4    8    6  0.500   3   0    3  0.500      0   2   0   \n",
       "...    ...    ...  ..  ...  ...    ...  ..  ..  ...    ...    ...  ..  ..   \n",
       "1093  2021  79290   4    8    8  0.125   1   0    1  0.125      0   0   2   \n",
       "1094  2021  79365  73  261  219  0.265  58  16  117  0.534      1  32  69   \n",
       "1095  2021  79402  70  278  237  0.211  50   1   61  0.257      0  30  26   \n",
       "1096  2021  79456  62  135  124  0.274  34   0   38  0.306      2   7  11   \n",
       "1097  2021  79608  55  246  212  0.325  69   5  102  0.481      5  26  32   \n",
       "\n",
       "      고의사구  사구  병살타    출루율  OPS  \n",
       "0        0   4    5  0.314  NaN  \n",
       "1        0   0    0  0.200  NaN  \n",
       "2        0   0    0  0.000  NaN  \n",
       "3        0   3    3  0.266  NaN  \n",
       "4        0   0    0  0.625  NaN  \n",
       "...    ...  ..  ...    ...  ...  \n",
       "1093     0   0    0  0.125  NaN  \n",
       "1094     0   6    5  0.372  NaN  \n",
       "1095     0   3    7  0.307  NaN  \n",
       "1096     1   1    5  0.313  NaN  \n",
       "1097     1   0    5  0.391  NaN  \n",
       "\n",
       "[1098 rows x 18 columns]"
      ]
     },
     "execution_count": 5,
     "metadata": {},
     "output_type": "execute_result"
    }
   ],
   "source": [
    "pd.read_csv('타자 기본 - test.csv', encoding = 'CP949')"
   ]
  },
  {
   "cell_type": "code",
   "execution_count": 6,
   "id": "484073d6",
   "metadata": {},
   "outputs": [],
   "source": [
    "df = pd.read_csv('82년 ~ 18년 타자 성적 - train.csv', encoding = 'CP949')\n",
    "df_t = pd.read_csv('타자 기본 - test.csv', encoding = 'CP949')"
   ]
  },
  {
   "cell_type": "code",
   "execution_count": 7,
   "id": "53d97731",
   "metadata": {},
   "outputs": [],
   "source": [
    "df_raw_y = df[['OPS']]# 목표변수\n",
    "df_raw_x = df[['경기','타석', '타수', '타율', '안타', '홈런', '루타', '볼넷', '삼진', '병살타']] # 독립변수"
   ]
  },
  {
   "cell_type": "code",
   "execution_count": 9,
   "id": "31df25d4",
   "metadata": {},
   "outputs": [
    {
     "name": "stdout",
     "output_type": "stream",
     "text": [
      "train data x size : (6846, 10)\n",
      "train data y size : (6846, 1)\n",
      "test data x size : (1712, 10)\n",
      "test data y size : (1712, 1)\n"
     ]
    }
   ],
   "source": [
    "# train, test set 나누기\n",
    "df_train_x, df_test_x, df_train_y, df_test_y = train_test_split(df_raw_x, df_raw_y, test_size = 0.2, random_state = 1234)\n",
    "\n",
    "print('train data x size : {}'.format(df_train_x.shape))\n",
    "print('train data y size : {}'.format(df_train_y.shape))\n",
    "print('test data x size : {}'.format(df_test_x.shape))\n",
    "print('test data y size : {}'.format(df_test_y.shape))"
   ]
  },
  {
   "cell_type": "code",
   "execution_count": 10,
   "id": "5cef0b0a",
   "metadata": {},
   "outputs": [
    {
     "name": "stdout",
     "output_type": "stream",
     "text": [
      "Score on trainning set : 0.998698\n",
      "Score on test set : 0.989237\n"
     ]
    }
   ],
   "source": [
    "# 기본 성능 모델\n",
    "gb_uncustomized = xgb.XGBRegressor(random_state = 1234)\n",
    "gb_uncustomized.fit(df_train_x, df_train_y)\n",
    "\n",
    "print('Score on trainning set : {:3f}'.format(gb_uncustomized.score(df_train_x, df_train_y)))\n",
    "print('Score on test set : {:3f}'.format(gb_uncustomized.score(df_test_x, df_test_y)))"
   ]
  },
  {
   "cell_type": "code",
   "execution_count": 11,
   "id": "dc7299a2",
   "metadata": {},
   "outputs": [
    {
     "name": "stdout",
     "output_type": "stream",
     "text": [
      "Score on training set: 0.997\n",
      "Score on test set: 0.991\n"
     ]
    }
   ],
   "source": [
    "# 최종 모델\n",
    "# gblinear : 선형모형\n",
    "# gbtree : 의사결정기반모형\n",
    "# dart : 드롭아웃 regression trees\n",
    "\n",
    "xgb_final = xgb.XGBRegressor(random_state = 1234, n_estimators = 400, subsample = 0.7,\n",
    "                                  colsample_bytree = 1, colsample_bylevel = 0.7, max_depth = 3)\n",
    "\n",
    "xgb_final.fit(df_train_x, df_train_y)\n",
    "\n",
    "print('Score on training set: {:.3f}'.format(xgb_final.score(df_train_x, df_train_y)))\n",
    "print('Score on test set: {:.3f}'.format(xgb_final.score(df_test_x, df_test_y)))"
   ]
  },
  {
   "cell_type": "code",
   "execution_count": 12,
   "id": "3eaa1765",
   "metadata": {},
   "outputs": [],
   "source": [
    "df_t = df_t[['경기','타석', '타수', '타율', '안타', '홈런', '루타', '볼넷', '삼진', '병살타']]"
   ]
  },
  {
   "cell_type": "code",
   "execution_count": 13,
   "id": "a91b9dbe",
   "metadata": {},
   "outputs": [],
   "source": [
    "pred = xgb_final.predict(df_t)"
   ]
  },
  {
   "cell_type": "code",
   "execution_count": 14,
   "id": "056310c4",
   "metadata": {},
   "outputs": [
    {
     "data": {
      "text/plain": [
       "array([0.6925855 , 0.5003788 , 0.00161074, ..., 0.56422246, 0.6408865 ,\n",
       "       0.8797321 ], dtype=float32)"
      ]
     },
     "execution_count": 14,
     "metadata": {},
     "output_type": "execute_result"
    }
   ],
   "source": [
    "pred"
   ]
  },
  {
   "cell_type": "code",
   "execution_count": 15,
   "id": "ab177d7d",
   "metadata": {},
   "outputs": [],
   "source": [
    "df_tt = pd.read_csv('타자 기본 - test.csv', encoding = 'CP949')"
   ]
  },
  {
   "cell_type": "code",
   "execution_count": 16,
   "id": "e1630dfa",
   "metadata": {},
   "outputs": [],
   "source": [
    "df_tt['OPS'] = pred.round(3)"
   ]
  },
  {
   "cell_type": "code",
   "execution_count": 17,
   "id": "d6435363",
   "metadata": {},
   "outputs": [],
   "source": [
    "df_tt.to_csv('타자 기본 - result.csv', encoding = 'CP949')"
   ]
  },
  {
   "cell_type": "code",
   "execution_count": 18,
   "id": "74707b6d",
   "metadata": {},
   "outputs": [],
   "source": [
    "df_basic = pd.read_csv('타자 기본.csv', encoding = 'CP949')"
   ]
  },
  {
   "cell_type": "code",
   "execution_count": 19,
   "id": "fea34b6f",
   "metadata": {},
   "outputs": [
    {
     "data": {
      "text/plain": [
       "0.0201475404359329"
      ]
     },
     "execution_count": 19,
     "metadata": {},
     "output_type": "execute_result"
    }
   ],
   "source": [
    "# 평균 절대 오차\n",
    "from sklearn.metrics import mean_absolute_error\n",
    "mae = mean_absolute_error(df_tt['OPS'], df_basic['OPS'])\n",
    "mae"
   ]
  },
  {
   "cell_type": "code",
   "execution_count": 20,
   "id": "fcbd4bf5",
   "metadata": {},
   "outputs": [
    {
     "data": {
      "text/plain": [
       "0.002584316838124197"
      ]
     },
     "execution_count": 20,
     "metadata": {},
     "output_type": "execute_result"
    }
   ],
   "source": [
    "# 평균 제곱근 오차\n",
    "from sklearn.metrics import mean_squared_error\n",
    "rmse = mean_squared_error(df_tt['OPS'], df_basic['OPS'])\n",
    "rmse"
   ]
  },
  {
   "cell_type": "markdown",
   "id": "e7673fbc",
   "metadata": {},
   "source": [
    "https://wotres.tistory.com/entry/%ED%9A%8C%EA%B7%80-%EC%97%B0%EC%86%8D%ED%98%95-%EB%B3%80%EC%88%98-%EC%B8%A1%EC%A0%95%ED%95%98%EB%8A%94%EB%B2%95-MSE-RMSE-MAE-MPE-MAPE-in-python"
   ]
  },
  {
   "cell_type": "markdown",
   "id": "b8fe41ae",
   "metadata": {},
   "source": []
  }
 ],
 "metadata": {
  "kernelspec": {
   "display_name": "Python 3",
   "language": "python",
   "name": "python3"
  },
  "language_info": {
   "codemirror_mode": {
    "name": "ipython",
    "version": 3
   },
   "file_extension": ".py",
   "mimetype": "text/x-python",
   "name": "python",
   "nbconvert_exporter": "python",
   "pygments_lexer": "ipython3",
   "version": "3.8.8"
  }
 },
 "nbformat": 4,
 "nbformat_minor": 5
}
