{
 "cells": [
  {
   "cell_type": "code",
   "execution_count": 1,
   "id": "c8038c89",
   "metadata": {},
   "outputs": [],
   "source": [
    "import pandas as pd\n",
    "\n",
    "# 한글 폰트 깨짐 방지\n",
    "from matplotlib import font_manager, rc\n",
    "font_path = \"C:/Windows/Fonts/NGULIM.TTF\"\n",
    "font = font_manager.FontProperties(fname=font_path).get_name()\n",
    "rc('font', family=font)\n",
    "\n",
    "#에러 무시\n",
    "import warnings\n",
    "warnings.filterwarnings('ignore')\n",
    "\n",
    "import pandas as pd\n",
    "\n",
    "import matplotlib.pyplot as plt\n",
    "import matplotlib\n",
    "\n",
    "from sklearn.tree import export_graphviz\n",
    "import graphviz\n",
    "\n",
    "from sklearn.model_selection import train_test_split\n",
    "from sklearn.ensemble import GradientBoostingRegressor\n",
    "from sklearn.model_selection import GridSearchCV\n",
    "\n",
    "from sklearn.preprocessing import scale, minmax_scale, robust_scale\n",
    "\n",
    "import xgboost as xgb\n",
    "\n",
    "import seaborn as sns\n",
    "\n",
    "plt.rcParams['font.family'] = 'NanumGothic'\n"
   ]
  },
  {
   "cell_type": "markdown",
   "id": "183c97a2",
   "metadata": {},
   "source": [
    "### 모듈"
   ]
  },
  {
   "cell_type": "code",
   "execution_count": 4,
   "id": "d1244088",
   "metadata": {},
   "outputs": [],
   "source": [
    "# matplotlib 한글 출력 가능하도록 만들기\n",
    "from matplotlib import font_manager, rc\n",
    "font_name = font_manager.FontProperties(fname=\"c:/Windows/Fonts/malgun.ttf\").get_name()\n",
    "rc('font', family=font_name)"
   ]
  },
  {
   "cell_type": "code",
   "execution_count": 6,
   "id": "5117e3b7",
   "metadata": {},
   "outputs": [
    {
     "name": "stdout",
     "output_type": "stream",
     "text": [
      "Collecting seleniumNote: you may need to restart the kernel to use updated packages.\n",
      "  Downloading selenium-3.141.0-py2.py3-none-any.whl (904 kB)\n",
      "Requirement already satisfied: urllib3 in c:\\users\\jangw\\anaconda3\\lib\\site-packages (from selenium) (1.26.4)\n",
      "Installing collected packages: selenium\n",
      "Successfully installed selenium-3.141.0\n",
      "\n"
     ]
    }
   ],
   "source": [
    "pip install selenium"
   ]
  },
  {
   "cell_type": "code",
   "execution_count": 7,
   "id": "c283bd09",
   "metadata": {},
   "outputs": [],
   "source": [
    "# 데이터 크롤링 모듈\n",
    "from selenium import webdriver\n",
    "from bs4 import BeautifulSoup\n",
    "import re"
   ]
  },
  {
   "cell_type": "code",
   "execution_count": 8,
   "id": "33edc948",
   "metadata": {},
   "outputs": [],
   "source": [
    "# 데이터 분석 모듈\n",
    "import pandas as pd\n",
    "import numpy as np\n",
    "import matplotlib.pyplot as plt\n",
    "import seaborn as sns\n",
    "import time\n",
    "from datetime import datetime"
   ]
  },
  {
   "cell_type": "markdown",
   "id": "2bf55321",
   "metadata": {},
   "source": [
    "## 코랩에서 셀레니움\n",
    "\n",
    "https://gall.dcinside.com/mini/board/view/?id=python&no=286\n"
   ]
  },
  {
   "cell_type": "code",
   "execution_count": 58,
   "id": "7c96ae93",
   "metadata": {},
   "outputs": [],
   "source": [
    "result = pd.read_csv('82년 ~ 18년 타자 성적.csv', encoding = 'CP949')"
   ]
  },
  {
   "cell_type": "code",
   "execution_count": 59,
   "id": "74bd7600",
   "metadata": {},
   "outputs": [],
   "source": [
    "result.drop('Unnamed: 0', axis = 1, inplace = True)"
   ]
  },
  {
   "cell_type": "code",
   "execution_count": 60,
   "id": "928ec156",
   "metadata": {},
   "outputs": [],
   "source": [
    "# 이름 분리 해서, '이름' column 추가\n",
    "result['이름'] = result['선수'].str.findall(\"^[ㄱ-힣]+\").apply(lambda x: x[0])\n",
    "\n",
    "# 기존 '선수' column 에 있던 이름 정보 제거\n",
    "result['선수'] = result.apply(lambda x: x['선수'].replace(x['이름'], ''), axis=1)"
   ]
  },
  {
   "cell_type": "code",
   "execution_count": 61,
   "id": "2640457c",
   "metadata": {},
   "outputs": [],
   "source": [
    "# '시즌' column 생성\n",
    "result['시즌'] = result['선수'].apply(lambda x: x[:2])\n",
    "\n",
    "# 기존 '선수' column 에 있던 시즌 정보 제거\n",
    "result['선수'] = result.apply(lambda x: x['선수'].replace(x['시즌'],''), axis=1)\n",
    "\n",
    "# 년도를 4자리 숫자로 바꾸어주기 ex) 98 -&gt; 1998, 15 -&gt; 2015\n",
    "# result['시즌'] = result['시즌'].apply(lambda x: int(\"20\"+ x) if int(x) &lt; 30 else int(\"19\"+x))"
   ]
  },
  {
   "cell_type": "code",
   "execution_count": 63,
   "id": "230f0f93",
   "metadata": {},
   "outputs": [],
   "source": [
    "result['시즌'] = result['시즌'].apply(lambda x: int('20' + x) if int(x) < 30 else int('19' + x))"
   ]
  },
  {
   "cell_type": "code",
   "execution_count": 65,
   "id": "a94ff238",
   "metadata": {},
   "outputs": [],
   "source": [
    "# 포지션\n",
    "position = ['1B', '2B', '3B', 'SS', 'C', 'RF', 'LF', 'CF', 'DH'] \n",
    "\n",
    "# 포지션 여부 확인\n",
    "result['포지션여부'] = result['선수'].apply(lambda x : (np.isin(x[-2:], position) or np.isin(x[-1:], position))) \n",
    "\n",
    "# 포지션 분리\n",
    "result['포지션'] = result['선수'].apply(lambda x: x[-2:] if x[-2:] in position else x[-1:])\n",
    "\n",
    "#포지션이 기록 되어 있지 않으면, nan값 넣기 \n",
    "result.loc[result['포지션여부']==False, '포지션'] = np.nan"
   ]
  },
  {
   "cell_type": "code",
   "execution_count": 66,
   "id": "f402b475",
   "metadata": {},
   "outputs": [
    {
     "data": {
      "text/plain": [
       "3475    1990-02-23\n",
       "6466    0000-00-00\n",
       "6855    1990-02-23\n",
       "7874    1990-02-23\n",
       "Name: 생일, dtype: object"
      ]
     },
     "execution_count": 66,
     "metadata": {},
     "output_type": "execute_result"
    }
   ],
   "source": [
    "#statiz 사이트에, 2015시즌 조홍석 데이터에 생일이 기록 안되어 있음, 해당 시즌의 생일 추가 \n",
    "result.loc[(result.이름 =='조홍석'),'생일']"
   ]
  },
  {
   "cell_type": "code",
   "execution_count": 67,
   "id": "65fafcc1",
   "metadata": {},
   "outputs": [],
   "source": [
    "result.loc[(result.이름 =='조홍석')&(result.시즌 ==2015),'생일'] = '1990-02-23'"
   ]
  },
  {
   "cell_type": "code",
   "execution_count": 68,
   "id": "19ff4d02",
   "metadata": {},
   "outputs": [
    {
     "data": {
      "text/plain": [
       "6466    1990-02-23\n",
       "Name: 생일, dtype: object"
      ]
     },
     "execution_count": 68,
     "metadata": {},
     "output_type": "execute_result"
    }
   ],
   "source": [
    "result[(result.이름 =='조홍석')&(result.시즌 ==2015)].생일"
   ]
  },
  {
   "cell_type": "code",
   "execution_count": 69,
   "id": "9c091161",
   "metadata": {},
   "outputs": [],
   "source": [
    "# 팀 & 나이 column 생성\n",
    "result['팀'] = result.apply(lambda x: x['선수'].replace(x['포지션'],'') if type(x['포지션'])==str else x['선수'], axis=1)\n",
    "result['나이'] = result.apply(lambda x: x['시즌'] - int(x['생일'][:4]) + 1, axis=1)"
   ]
  },
  {
   "cell_type": "code",
   "execution_count": 72,
   "id": "032603ab",
   "metadata": {},
   "outputs": [],
   "source": [
    "# 이름 변경\n",
    "result['이름'] = result['이름'].replace(\"윤여운\", \"윤수강\").replace('이유찬', '이병휘')"
   ]
  },
  {
   "cell_type": "code",
   "execution_count": 73,
   "id": "b7b5a39f",
   "metadata": {},
   "outputs": [],
   "source": [
    "# numeric data로 변환\n",
    "float_columns = result.iloc[:,1:27].columns\n",
    "result[float_columns] = result[float_columns].astype(float).fillna(0)"
   ]
  },
  {
   "cell_type": "code",
   "execution_count": 74,
   "id": "d33337d2",
   "metadata": {},
   "outputs": [],
   "source": [
    "# 필요한 features 선택\n",
    "cols = ['이름', '생일', '팀', '시즌', '포지션', '나이'] + list(float_columns)\n",
    "result = result[cols]"
   ]
  },
  {
   "cell_type": "code",
   "execution_count": 77,
   "id": "ff0bf3dd",
   "metadata": {},
   "outputs": [],
   "source": [
    "result.to_csv('82년 ~ 18년 타자 성적.csv', encoding = 'CP949')"
   ]
  },
  {
   "cell_type": "code",
   "execution_count": null,
   "id": "4a0127b4",
   "metadata": {},
   "outputs": [],
   "source": []
  }
 ],
 "metadata": {
  "kernelspec": {
   "display_name": "Python 3",
   "language": "python",
   "name": "python3"
  },
  "language_info": {
   "codemirror_mode": {
    "name": "ipython",
    "version": 3
   },
   "file_extension": ".py",
   "mimetype": "text/x-python",
   "name": "python",
   "nbconvert_exporter": "python",
   "pygments_lexer": "ipython3",
   "version": "3.8.8"
  }
 },
 "nbformat": 4,
 "nbformat_minor": 5
}
